{
 "cells": [
  {
   "cell_type": "code",
   "execution_count": 1,
   "id": "07026482",
   "metadata": {},
   "outputs": [],
   "source": [
    "import numpy as np\n",
    "from scipy.linalg import inv\n",
    "import matplotlib.pyplot as plt\n",
    "import math"
   ]
  },
  {
   "cell_type": "code",
   "execution_count": 2,
   "id": "398f66b1",
   "metadata": {},
   "outputs": [],
   "source": [
    "# Parameters\n",
    "p0 = 1\n",
    "q0 = 0.5\n",
    "a0 = 0.8\n",
    "a = 8\n",
    "sc = 10\n",
    "be = sc * a0\n",
    "pow_val = 3\n",
    "beta = 10\n",
    "nbas = 3\n",
    "Q = 1"
   ]
  },
  {
   "cell_type": "code",
   "execution_count": 3,
   "id": "788d42ae",
   "metadata": {},
   "outputs": [
    {
     "name": "stdout",
     "output_type": "stream",
     "text": [
      "2.7892244801199517\n",
      "-2.2892244801199517 3.2892244801199517\n"
     ]
    }
   ],
   "source": [
    "# xmin and xmax for the grid\n",
    "def compute_xmin_xmax(a0, pow_val, q0):\n",
    "    term = np.log(1/10**pow_val * np.sqrt(np.pi / a0))\n",
    "    x_max = np.sqrt(-term / a0) + q0\n",
    "    x_min = -np.sqrt(-term / a0) + q0\n",
    "    return x_min, x_max\n",
    "\n",
    "xmin, xmax = compute_xmin_xmax(a0, pow_val, q0)\n",
    "dx = (xmax - xmin) / (nbas - 1)\n",
    "\n",
    "print(dx)\n",
    "print(xmin, xmax)"
   ]
  },
  {
   "cell_type": "code",
   "execution_count": 4,
   "id": "b53f3c74",
   "metadata": {},
   "outputs": [],
   "source": [
    "# Define the initial wavefunction psi\n",
    "def psi(x, a0, q0, p0):\n",
    "    return (a0 / np.pi)**0.25 * np.exp(-a0 * (x - q0)**2 / 2 + 1j * p0 * (x - q0))\n",
    "\n",
    "# Define Gaussian basis function\n",
    "def gaussian_basis(x, qn, be, p0):\n",
    "    return (be / np.pi)**0.25 * np.exp(-be * (x - qn)**2 / 2 + 1j * p0 * (x - qn))\n",
    "\n",
    "def gaussian_overlap(qn1, qn2, p1, p2, be):\n",
    "    t1 = qn1 - qn2\n",
    "    t2 = t1 ** 2\n",
    "    t3 = be ** 2\n",
    "    t10 = (p1 - p2) ** 2\n",
    "    t15 = np.exp(1.0 / be * (-t3 * t2 + 1j * 2 * (p1 + p2) * be * t1 - t10) / 4)\n",
    "    return t15\n",
    "\n",
    "# Define projection integral between psi and Gaussian basis functions\n",
    "def projection(q0, qn, p0, pn, a0, be):\n",
    "    t1 = q0 - qn\n",
    "    t11 = (-pn + p0) ** 2\n",
    "    t13 = a0 + be\n",
    "    t16 = np.exp(1 / t13 * (-2 * a0 * t1 * (be * t1 / 2 + 1j * pn) + (-2j) * be * t1 * p0 - t11) / 2)\n",
    "    t17 = be ** 0.25\n",
    "    t19 = a0 ** 0.25\n",
    "    t24 = np.sqrt(2) * t13 ** (-0.5) * t19 * t17 * t16\n",
    "    return t24"
   ]
  },
  {
   "cell_type": "code",
   "execution_count": 5,
   "id": "26723ccf",
   "metadata": {},
   "outputs": [
    {
     "name": "stdout",
     "output_type": "stream",
     "text": [
      "qn_list: [-2.2892244801199517, 0.5, 3.2892244801199517]\n",
      "pn_list: [0, 1, 2]\n",
      "an_list: [8.0, 8.0, 8.0]\n",
      "Qn_list: [1, 1, 1]\n"
     ]
    }
   ],
   "source": [
    "# lists to store grid points and basis function parameters\n",
    "qn_list = []\n",
    "pn_list = []\n",
    "an_list = []\n",
    "Qn_list = []\n",
    "g_list = []\n",
    "\n",
    "for n in range(nbas):\n",
    "    qn = xmin + n * dx\n",
    "    pn = p0 + (n - 1)\n",
    "    Qn = Q\n",
    "    an = be\n",
    "    qn_list.append(qn)\n",
    "    pn_list.append(pn)\n",
    "    Qn_list.append(Qn)\n",
    "    an_list.append(an)\n",
    "    \n",
    "\n",
    "# Print results\n",
    "print(\"qn_list:\", qn_list)\n",
    "print(\"pn_list:\", pn_list)\n",
    "print(\"an_list:\", an_list)\n",
    "print(\"Qn_list:\", Qn_list)\n"
   ]
  },
  {
   "cell_type": "code",
   "execution_count": 6,
   "id": "c137924d",
   "metadata": {},
   "outputs": [
    {
     "name": "stdout",
     "output_type": "stream",
     "text": [
      "Analytical Overlap Matrix S_analytical:\n",
      "[[ 1.00000000e+00+0.00000000e+00j  2.96975549e-08-1.66812104e-07j\n",
      "   6.27832137e-28+5.33919385e-28j]\n",
      " [ 2.96975549e-08+1.66812104e-07j  1.00000000e+00+0.00000000e+00j\n",
      "  -8.54433127e-08+1.46313578e-07j]\n",
      " [ 6.27832137e-28-5.33919385e-28j -8.54433127e-08-1.46313578e-07j\n",
      "   1.00000000e+00+0.00000000e+00j]]\n",
      "Inverse of Analytical Overlap Matrix S_inv_analytical:\n",
      "[[ 1.00000000e+00+0.00000000e+00j -2.96975549e-08+1.66812104e-07j\n",
      "   2.18694184e-14+1.85981343e-14j]\n",
      " [-2.96975549e-08-1.66812104e-07j  1.00000000e+00-4.77539239e-30j\n",
      "   8.54433127e-08-1.46313578e-07j]\n",
      " [ 2.18694184e-14-1.85981343e-14j  8.54433127e-08+1.46313578e-07j\n",
      "   1.00000000e+00-5.13459902e-31j]]\n",
      "Projection vector p_analytical:\n",
      "[-0.03478374-0.02410109j  0.75826089+0.j         -0.04211113+0.00417427j]\n"
     ]
    }
   ],
   "source": [
    "# Overlap matrix S\n",
    "S_analytical = np.zeros((nbas, nbas), dtype=complex)\n",
    "for i in range(nbas):\n",
    "    for j in range(nbas):\n",
    "        S_analytical[i, j] = gaussian_overlap(qn_list[i], qn_list[j], pn_list[i], pn_list[j], be)\n",
    "\n",
    "# analytical overlap matrix\n",
    "print(\"Analytical Overlap Matrix S_analytical:\")\n",
    "print(S_analytical)\n",
    "\n",
    "# Inverse of the analytical overlap matrix\n",
    "S_inv_analytical = inv(S_analytical)\n",
    "print(\"Inverse of Analytical Overlap Matrix S_inv_analytical:\")\n",
    "print(S_inv_analytical)\n",
    "\n",
    "# Projection vector p\n",
    "p_analytical = np.zeros(nbas, dtype=complex)\n",
    "for i in range(nbas):\n",
    "    p_analytical[i] = projection(q0, qn_list[i], p0, pn_list[i], a0, be)\n",
    "\n",
    "print(\"Projection vector p_analytical:\")\n",
    "print(p_analytical)"
   ]
  },
  {
   "cell_type": "code",
   "execution_count": 7,
   "id": "70329c22",
   "metadata": {},
   "outputs": [
    {
     "name": "stdout",
     "output_type": "stream",
     "text": [
      "Coefficients Vector c_analytical:\n",
      "[-0.03478377-2.41009667e-02j  0.75826088+1.30361856e-08j\n",
      " -0.04211106+4.17437930e-03j]\n"
     ]
    }
   ],
   "source": [
    "# Complex coefficients c_analytical\n",
    "c_analytical = S_inv_analytical @ p_analytical\n",
    "print(\"Coefficients Vector c_analytical:\")\n",
    "print(c_analytical)"
   ]
  },
  {
   "cell_type": "code",
   "execution_count": 8,
   "id": "63839e79",
   "metadata": {},
   "outputs": [
    {
     "data": {
      "image/png": "[encoded data removed]",
      "text/plain": [
       "<Figure size 1000x600 with 1 Axes>"
      ]
     },
     "metadata": {},
     "output_type": "display_data"
    }
   ],
   "source": [
    "### Semi-Local Fit to the Momentum \n",
    "x_vals_plot = np.linspace(-10, 10, 100)\n",
    "# Window function \n",
    "def window_function(x_val, q_n, beta):\n",
    "    return np.sqrt(beta/np.pi)*np.exp(-beta*(x_val-q_n)**2)\n",
    "\n",
    "# Window function\n",
    "w_n = window_function(x_vals_plot, q0, beta)\n",
    "\n",
    "plt.figure(figsize=(10, 6))\n",
    "plt.plot(x_vals_plot, w_n, label='Window Function $w_n$', color='red')\n",
    "plt.title('Window Function')\n",
    "plt.xlabel('x')\n",
    "plt.ylabel('$w_n$')\n",
    "plt.legend()\n",
    "plt.grid(True)\n",
    "plt.show()"
   ]
  },
  {
   "cell_type": "code",
   "execution_count": 9,
   "id": "d2ad92d7",
   "metadata": {},
   "outputs": [
    {
     "name": "stdout",
     "output_type": "stream",
     "text": [
      "[[ 2.41141370e-13+0.00000000e+00j  7.03585621e-12-6.72853795e-12j\n",
      "   1.82935290e-28+3.10277753e-28j]\n",
      " [ 7.03585621e-12+6.72853795e-12j  4.19203322e-01+0.00000000e+00j\n",
      "  -3.77694328e-09+1.61056357e-08j]\n",
      " [ 1.82935290e-28-3.10277753e-28j -3.77694328e-09-1.61056357e-08j\n",
      "   6.96269428e-07+0.00000000e+00j]]\n"
     ]
    }
   ],
   "source": [
    "### Functions to compute the coefficients of the linear Matrix Md=b\n",
    "def compute_M11(qn1, qn2, p1, p2, be, beta):\n",
    "    t1 = qn1 - qn2\n",
    "    t2 = t1 ** 2\n",
    "    t3 = be ** 2\n",
    "    t5 = qn1 ** 2\n",
    "    t6 = qn2 ** 2\n",
    "    t22 = (p1 - p2) ** 2\n",
    "    t24 = be + beta\n",
    "    \n",
    "    t28 = np.exp(1.0 / t24 * (-t3 * t2 + 2 * be * (beta * (-t5 - t6 + 2 * qn1 + 2 * qn2 - 2) + 1j * t1 * (p1 + p2)) \n",
    "                              + 4j * (p1 * qn1 - p2 * qn2 - p1 + p2) * beta - t22) / 4)\n",
    "    \n",
    "    t29 = np.sqrt(be)\n",
    "    t31 = np.sqrt(t24)\n",
    "    t33 = (1.0 / t31) * t29 * t28\n",
    "    \n",
    "    return t33\n",
    "\n",
    "\n",
    "M11_matrix = np.zeros((nbas, nbas), dtype=complex)\n",
    "\n",
    "eta = 0.5\n",
    "beta = be*eta\n",
    "Q = 1\n",
    "\n",
    "for i in range(nbas):\n",
    "    for j in range(nbas):\n",
    "        qn1 = qn_list[i]\n",
    "        qn2 = qn_list[j]\n",
    "        p1 = pn_list[i]\n",
    "        p2 = pn_list[j]\n",
    "        Q= 1\n",
    "        M11_matrix[i, j] = compute_M11(qn1, qn2, p1, p2, be, beta)\n",
    "        \n",
    "print(M11_matrix)"
   ]
  },
  {
   "cell_type": "code",
   "execution_count": 10,
   "id": "cc96cbfe",
   "metadata": {},
   "outputs": [
    {
     "name": "stdout",
     "output_type": "stream",
     "text": [
      "M11: (0.24102496142660101-9.305781891221561e-25j)\n"
     ]
    }
   ],
   "source": [
    "# Function to compute the value using the M11 matrix and coefficients vector c\n",
    "def compute_M11_value(c, nbas, M11_matrix):\n",
    "    M11_value = 0\n",
    "    for i in range(nbas):\n",
    "        for j in range(nbas):\n",
    "            M11_value += np.conj(c_analytical[i]) * M11_matrix[i, j] * c_analytical[j]\n",
    "    return M11_value\n",
    "\n",
    "M11_result = compute_M11_value(c_analytical, nbas, M11_matrix)\n",
    "print(\"M11:\", M11_result)"
   ]
  },
  {
   "cell_type": "code",
   "execution_count": 11,
   "id": "c9e72690",
   "metadata": {},
   "outputs": [
    {
     "name": "stdout",
     "output_type": "stream",
     "text": [
      "M12_Matrix:\n",
      "[[-5.28778732e-13+0.00000000e+00j -8.60645711e-12+8.79180758e-12j\n",
      "  -8.68349095e-29-8.81813103e-29j]\n",
      " [-8.60645711e-12-8.79180758e-12j -1.39734441e-01+0.00000000e+00j\n",
      "  -2.92366795e-09+9.44815994e-09j]\n",
      " [-8.68349095e-29+8.81813103e-29j -2.92366795e-09-9.44815994e-09j\n",
      "   1.06261135e-06-0.00000000e+00j]]\n"
     ]
    }
   ],
   "source": [
    "def compute_M12(qn1, qn2, p1, p2, be, beta):\n",
    "    t5 = qn1 - qn2\n",
    "    t6 = t5 ** 2\n",
    "    t7 = be ** 2\n",
    "    t9 = qn1 ** 2\n",
    "    t10 = qn2 ** 2\n",
    "    t26 = (p1 - p2) ** 2\n",
    "    t28 = be + beta\n",
    "    \n",
    "    t32 = np.exp(1.0 / t28 * (-t7 * t6 + 2 * be * (beta * (-t9 - t10 + 2 * qn1 + 2 * qn2 - 2) + 1j * t5 * (p1 + p2)) \n",
    "                              + 4j * (p1 * qn1 - p2 * qn2 - p1 + p2) * beta - t26) / 4)\n",
    "    \n",
    "    t34 = np.sqrt(be)\n",
    "    t35 = np.sqrt(t28)\n",
    "    t41 = (-1.0 / t35 / t28) * t34 * t32 * ((-qn1 - qn2 + 2) * be + 1j * p1 - 1j * p2) / 2\n",
    "    \n",
    "    return t41\n",
    "\n",
    "M12_matrix = np.zeros((nbas, nbas), dtype=complex)\n",
    "\n",
    "eta = 0.5\n",
    "beta = be * eta\n",
    "\n",
    "for i in range(nbas):\n",
    "    for j in range(nbas):\n",
    "        qn1 = qn_list[i]\n",
    "        qn2 = qn_list[j]\n",
    "        p1 = pn_list[i]\n",
    "        p2 = pn_list[j]\n",
    "        Qn1 = Qn_list[i]\n",
    "        Qn2 = Qn_list[j]\n",
    "        \n",
    "    \n",
    "        M12_matrix[i, j] = compute_M12(qn1, qn2, p1, p2, be, beta)\n",
    "\n",
    "print(\"M12_Matrix:\")\n",
    "print(M12_matrix)"
   ]
  },
  {
   "cell_type": "code",
   "execution_count": 12,
   "id": "88a80ac8",
   "metadata": {},
   "outputs": [
    {
     "name": "stdout",
     "output_type": "stream",
     "text": [
      "M12: (-0.08034165131695285+2.5849394142282115e-26j)\n"
     ]
    }
   ],
   "source": [
    "def compute_M11_value(c, nbas, M12_matrix):\n",
    "    M12_value = 0\n",
    "    for i in range(nbas):\n",
    "        for j in range(nbas):\n",
    "            M12_value += np.conj(c_analytical[i]) * M12_matrix[i, j] *c_analytical[j]\n",
    "    return M12_value\n",
    "\n",
    "M12_result = compute_M11_value(c_analytical, nbas, M12_matrix)\n",
    "print(\"M12:\", M12_result)"
   ]
  },
  {
   "cell_type": "code",
   "execution_count": 13,
   "id": "d1dfd101",
   "metadata": {},
   "outputs": [
    {
     "name": "stdout",
     "output_type": "stream",
     "text": [
      "M22_Matrix:\n",
      "[[ 1.16956219e-12-0.00000000e+00j  1.07974347e-11-1.17436690e-11j\n",
      "   4.39157161e-29+3.50857673e-29j]\n",
      " [ 1.07974347e-11+1.17436690e-11j  6.40449520e-02-0.00000000e+00j\n",
      "  -2.29474539e-09+6.18420834e-09j]\n",
      " [ 4.39157161e-29-3.50857673e-29j -2.29474539e-09-6.18420834e-09j\n",
      "   1.65071516e-06-0.00000000e+00j]]\n"
     ]
    }
   ],
   "source": [
    "def compute_M22(qn1, qn2, p1, p2, be, beta):\n",
    "\n",
    "    t2 = (qn1 + qn2 - 2) ** 2\n",
    "    t3 = be ** 2\n",
    "    t6 = p1 - p2\n",
    "    t13 = p1 ** 2\n",
    "    t16 = p2 ** 2\n",
    "    t19 = qn1 - qn2\n",
    "    t20 = t19 ** 2\n",
    "    t22 = qn1 ** 2\n",
    "    t23 = qn2 ** 2\n",
    "    t38 = t6 ** 2\n",
    "    t40 = be + beta\n",
    "    \n",
    "    t44 = np.exp(1.0 / t40 * (-t3 * t20 + 2 * be * (beta * (-t22 - t23 + 2 * qn1 + 2 * qn2 - 2) + 1j * t19 * (p1 + p2)) \n",
    "                              + 4j * (p1 * qn1 - p2 * qn2 - p1 + p2) * beta - t38) / 4)\n",
    "    \n",
    "   \n",
    "    t46 = np.sqrt(be)\n",
    "    t47 = t40 ** 2\n",
    "    t48 = np.sqrt(t40)\n",
    "    t54 = (-1.0 / t48 / t47) * t46 * t44 * (-t3 * t2 / 2 + be * (-1 + 1j * qn1 * t6 + 1j * qn2 * t6 - 2j * p1 + 2j * p2)  + t13 / 2 - p1 * p2 + t16 / 2 - beta) / 2\n",
    "    \n",
    "    return t54\n",
    "\n",
    "M22_matrix = np.zeros((nbas, nbas), dtype=complex)\n",
    "\n",
    "eta = 0.5\n",
    "beta = be * eta\n",
    "\n",
    "for i in range(nbas):\n",
    "    for j in range(nbas):\n",
    "        qn1 = qn_list[i]\n",
    "        qn2 = qn_list[j]\n",
    "        p1 = pn_list[i]\n",
    "        p2 = pn_list[j]\n",
    "        M22_matrix[i, j] = compute_M22(qn1, qn2, p1, p2, be, beta)\n",
    "print(\"M22_Matrix:\")\n",
    "print(M22_matrix)"
   ]
  },
  {
   "cell_type": "code",
   "execution_count": 14,
   "id": "85c474f0",
   "metadata": {},
   "outputs": [
    {
     "name": "stdout",
     "output_type": "stream",
     "text": [
      "M22: (0.036823260847290276-1.0339757656912846e-25j)\n"
     ]
    }
   ],
   "source": [
    "# Function to compute the value using the M11 matrix and coefficients vector c\n",
    "def compute_M22_value(c, nbas, M12_matrix):\n",
    "    M12_value = 0\n",
    "    for i in range(nbas):\n",
    "        for j in range(nbas):\n",
    "            M12_value += np.conj(c_analytical[i]) * M22_matrix[i, j] *c_analytical[j]\n",
    "    return M12_value\n",
    "\n",
    "M22_result = compute_M22_value(c_analytical, nbas, M12_matrix)\n",
    "print(\"M22:\", M22_result)\n"
   ]
  },
  {
   "cell_type": "code",
   "execution_count": 15,
   "id": "58c59e0a",
   "metadata": {},
   "outputs": [
    {
     "name": "stdout",
     "output_type": "stream",
     "text": [
      "D11:\n",
      "[[-2.11511493e-12+0.00000000e+00j  4.74367700e-11-3.63844526e-11j\n",
      "   3.42436333e-27+6.75368449e-27j]\n",
      " [-1.16288427e-10-1.06718913e-10j -5.58937763e-01+4.19203322e-01j\n",
      "  -7.79920960e-08+2.11816159e-07j]\n",
      " [-4.11904260e-27+7.45913497e-27j  5.46027524e-08+1.36230879e-07j\n",
      "   4.25044539e-06+1.39253886e-06j]]\n",
      "D22:\n",
      "[[ 4.55767807e-12+0.00000000e+00j -6.07454566e-11+5.01756643e-11j\n",
      "  -1.76523991e-27-2.06929047e-27j]\n",
      " [ 1.40089078e-10+1.37396478e-10j  4.65781469e-02-1.39734441e-01j\n",
      "  -5.40818146e-08+1.17710670e-07j]\n",
      " [ 1.93363035e-27-2.03969886e-27j  3.95007948e-08+8.43426385e-08j\n",
      "   6.25472595e-06+2.12522269e-06j]]\n"
     ]
    }
   ],
   "source": [
    "def D_values(qn_list, pn_list, Qn_list, an_list, M11_matrix, M12_matrix, M22_matrix, nbas):\n",
    "    \n",
    "    D11_list = np.zeros((nbas, nbas), dtype=complex)\n",
    "    D22_list = np.zeros((nbas, nbas), dtype=complex)\n",
    "\n",
    "    for i in range(nbas):\n",
    "        for j in range(nbas):\n",
    "            qn = qn_list[j]\n",
    "            pn = pn_list[j]\n",
    "            Q = Qn_list[j]\n",
    "            a = an_list[j]\n",
    "\n",
    "            D11_list[i, j] = (-a*M12_matrix[i, j] + (a * (qn - Q) + 1j * pn) * M11_matrix[i, j])\n",
    "            D22_list[i, j] = (-a* M22_matrix[i, j] + (a * (qn - Q) + 1j * pn) * M12_matrix[i, j])\n",
    "\n",
    "    return D11_list, D22_list\n",
    "\n",
    "D11, D22 = D_values(qn_list, pn_list, Qn_list, an_list, M11_matrix, M12_matrix, M22_matrix, nbas)\n",
    "\n",
    "# Print results\n",
    "print(\"D11:\")\n",
    "print(D11)\n",
    "print(\"D22:\")\n",
    "print(D22)\n"
   ]
  },
  {
   "cell_type": "code",
   "execution_count": 16,
   "id": "16517074",
   "metadata": {},
   "outputs": [
    {
     "name": "stdout",
     "output_type": "stream",
     "text": [
      "b1: (-0.32136660526781136+0.24102495100785373j)\n",
      "b2: (0.02678056267586063-0.08034165629772587j)\n"
     ]
    }
   ],
   "source": [
    "def compute_b1_b2(c, g_list, qn_list, pn_list, Qn_list, an_list, M11_matrix, M12_matrix, M22_matrix, nbas):\n",
    "    D11, D22 = D_values(qn_list, pn_list, Qn_list, an_list, M11_matrix, M12_matrix, M22_matrix, nbas)\n",
    "    \n",
    "    b1 = 0\n",
    "    b2 = 0\n",
    "    \n",
    "    for i in range(nbas):\n",
    "        for j in range(nbas):\n",
    "            b1 += np.conj(c_analytical[i]) * D11[i, j] * c_analytical[j]\n",
    "            b2 += np.conj(c_analytical[i]) * D22[i, j] *c_analytical[j]\n",
    "\n",
    "    return np.array([b1, b2])\n",
    "\n",
    "b1b2 = compute_b1_b2(c_analytical, g_list, qn_list, pn_list, Qn_list, an_list, M11_matrix, M12_matrix, M22_matrix, nbas)\n",
    "\n",
    "print(\"b1:\", b1b2[0])\n",
    "print(\"b2:\", b1b2[1])"
   ]
  },
  {
   "cell_type": "code",
   "execution_count": 17,
   "id": "08ac90a0",
   "metadata": {},
   "outputs": [
    {
     "name": "stdout",
     "output_type": "stream",
     "text": [
      "[[ 0.24102496-9.30578189e-25j -0.08034165+2.58493941e-26j]\n",
      " [-0.08034165+2.58493941e-26j  0.03682326-1.03397577e-25j]]\n"
     ]
    }
   ],
   "source": [
    "m_matrix = np.array([[M11_result, M12_result], [M12_result, M22_result ]])  \n",
    "print(m_matrix)"
   ]
  },
  {
   "cell_type": "code",
   "execution_count": 18,
   "id": "e4adfaea",
   "metadata": {},
   "outputs": [
    {
     "name": "stdout",
     "output_type": "stream",
     "text": [
      "[-3.99999808+9.99999676e-01j -7.99999461-8.41773547e-07j]\n"
     ]
    }
   ],
   "source": [
    "b_vector = np.linalg.solve(m_matrix, b1b2)\n",
    "print(b_vector)"
   ]
  },
  {
   "cell_type": "code",
   "execution_count": null,
   "id": "66a9166e",
   "metadata": {},
   "outputs": [],
   "source": []
  }
 ],
 "metadata": {
  "kernelspec": {
   "display_name": "Python 3 (ipykernel)",
   "language": "python",
   "name": "python3"
  },
  "language_info": {
   "codemirror_mode": {
    "name": "ipython",
    "version": 3
   },
   "file_extension": ".py",
   "mimetype": "text/x-python",
   "name": "python",
   "nbconvert_exporter": "python",
   "pygments_lexer": "ipython3",
   "version": "3.11.7"
  }
 },
 "nbformat": 4,
 "nbformat_minor": 5
}
